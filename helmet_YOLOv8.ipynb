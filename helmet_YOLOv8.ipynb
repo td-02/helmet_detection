{
  "nbformat": 4,
  "nbformat_minor": 0,
  "metadata": {
    "colab": {
      "provenance": [],
      "gpuType": "T4",
      "mount_file_id": "1QDCyGP0mVVnWLg8mPwNz_dIaK8rNtN7i",
      "authorship_tag": "ABX9TyMCXgCcjCnWKvBZQ4Ec3WNg",
      "include_colab_link": true
    },
    "kernelspec": {
      "name": "python3",
      "display_name": "Python 3"
    },
    "language_info": {
      "name": "python"
    },
    "accelerator": "GPU"
  },
  "cells": [
    {
      "cell_type": "markdown",
      "metadata": {
        "id": "view-in-github",
        "colab_type": "text"
      },
      "source": [
        "<a href=\"https://colab.research.google.com/github/td-02/helmet_detection/blob/main/helmet_YOLOv8.ipynb\" target=\"_parent\"><img src=\"https://colab.research.google.com/assets/colab-badge.svg\" alt=\"Open In Colab\"/></a>"
      ]
    },
    {
      "cell_type": "markdown",
      "source": [
        "Custom Training the YOLOv8"
      ],
      "metadata": {
        "id": "YW03NDmldwSu"
      }
    },
    {
      "cell_type": "code",
      "source": [
        "pip install ultralytics"
      ],
      "metadata": {
        "colab": {
          "base_uri": "https://localhost:8080/"
        },
        "id": "5juq2KnEYMAA",
        "outputId": "16b3e2ae-ee7d-45c5-bc0e-e30fed094243"
      },
      "execution_count": 1,
      "outputs": [
        {
          "output_type": "stream",
          "name": "stdout",
          "text": [
            "Collecting ultralytics\n",
            "  Downloading ultralytics-8.0.180-py3-none-any.whl (617 kB)\n",
            "\u001b[2K     \u001b[90m━━━━━━━━━━━━━━━━━━━━━━━━━━━━━━━━━━━━━━━\u001b[0m \u001b[32m617.0/617.0 kB\u001b[0m \u001b[31m9.7 MB/s\u001b[0m eta \u001b[36m0:00:00\u001b[0m\n",
            "\u001b[?25hRequirement already satisfied: matplotlib>=3.2.2 in /usr/local/lib/python3.10/dist-packages (from ultralytics) (3.7.1)\n",
            "Requirement already satisfied: numpy>=1.22.2 in /usr/local/lib/python3.10/dist-packages (from ultralytics) (1.23.5)\n",
            "Requirement already satisfied: opencv-python>=4.6.0 in /usr/local/lib/python3.10/dist-packages (from ultralytics) (4.8.0.76)\n",
            "Requirement already satisfied: pillow>=7.1.2 in /usr/local/lib/python3.10/dist-packages (from ultralytics) (9.4.0)\n",
            "Requirement already satisfied: pyyaml>=5.3.1 in /usr/local/lib/python3.10/dist-packages (from ultralytics) (6.0.1)\n",
            "Requirement already satisfied: requests>=2.23.0 in /usr/local/lib/python3.10/dist-packages (from ultralytics) (2.31.0)\n",
            "Requirement already satisfied: scipy>=1.4.1 in /usr/local/lib/python3.10/dist-packages (from ultralytics) (1.11.2)\n",
            "Requirement already satisfied: torch>=1.8.0 in /usr/local/lib/python3.10/dist-packages (from ultralytics) (2.0.1+cu118)\n",
            "Requirement already satisfied: torchvision>=0.9.0 in /usr/local/lib/python3.10/dist-packages (from ultralytics) (0.15.2+cu118)\n",
            "Requirement already satisfied: tqdm>=4.64.0 in /usr/local/lib/python3.10/dist-packages (from ultralytics) (4.66.1)\n",
            "Requirement already satisfied: pandas>=1.1.4 in /usr/local/lib/python3.10/dist-packages (from ultralytics) (1.5.3)\n",
            "Requirement already satisfied: seaborn>=0.11.0 in /usr/local/lib/python3.10/dist-packages (from ultralytics) (0.12.2)\n",
            "Requirement already satisfied: psutil in /usr/local/lib/python3.10/dist-packages (from ultralytics) (5.9.5)\n",
            "Requirement already satisfied: py-cpuinfo in /usr/local/lib/python3.10/dist-packages (from ultralytics) (9.0.0)\n",
            "Requirement already satisfied: contourpy>=1.0.1 in /usr/local/lib/python3.10/dist-packages (from matplotlib>=3.2.2->ultralytics) (1.1.0)\n",
            "Requirement already satisfied: cycler>=0.10 in /usr/local/lib/python3.10/dist-packages (from matplotlib>=3.2.2->ultralytics) (0.11.0)\n",
            "Requirement already satisfied: fonttools>=4.22.0 in /usr/local/lib/python3.10/dist-packages (from matplotlib>=3.2.2->ultralytics) (4.42.1)\n",
            "Requirement already satisfied: kiwisolver>=1.0.1 in /usr/local/lib/python3.10/dist-packages (from matplotlib>=3.2.2->ultralytics) (1.4.5)\n",
            "Requirement already satisfied: packaging>=20.0 in /usr/local/lib/python3.10/dist-packages (from matplotlib>=3.2.2->ultralytics) (23.1)\n",
            "Requirement already satisfied: pyparsing>=2.3.1 in /usr/local/lib/python3.10/dist-packages (from matplotlib>=3.2.2->ultralytics) (3.1.1)\n",
            "Requirement already satisfied: python-dateutil>=2.7 in /usr/local/lib/python3.10/dist-packages (from matplotlib>=3.2.2->ultralytics) (2.8.2)\n",
            "Requirement already satisfied: pytz>=2020.1 in /usr/local/lib/python3.10/dist-packages (from pandas>=1.1.4->ultralytics) (2023.3.post1)\n",
            "Requirement already satisfied: charset-normalizer<4,>=2 in /usr/local/lib/python3.10/dist-packages (from requests>=2.23.0->ultralytics) (3.2.0)\n",
            "Requirement already satisfied: idna<4,>=2.5 in /usr/local/lib/python3.10/dist-packages (from requests>=2.23.0->ultralytics) (3.4)\n",
            "Requirement already satisfied: urllib3<3,>=1.21.1 in /usr/local/lib/python3.10/dist-packages (from requests>=2.23.0->ultralytics) (2.0.4)\n",
            "Requirement already satisfied: certifi>=2017.4.17 in /usr/local/lib/python3.10/dist-packages (from requests>=2.23.0->ultralytics) (2023.7.22)\n",
            "Requirement already satisfied: filelock in /usr/local/lib/python3.10/dist-packages (from torch>=1.8.0->ultralytics) (3.12.2)\n",
            "Requirement already satisfied: typing-extensions in /usr/local/lib/python3.10/dist-packages (from torch>=1.8.0->ultralytics) (4.5.0)\n",
            "Requirement already satisfied: sympy in /usr/local/lib/python3.10/dist-packages (from torch>=1.8.0->ultralytics) (1.12)\n",
            "Requirement already satisfied: networkx in /usr/local/lib/python3.10/dist-packages (from torch>=1.8.0->ultralytics) (3.1)\n",
            "Requirement already satisfied: jinja2 in /usr/local/lib/python3.10/dist-packages (from torch>=1.8.0->ultralytics) (3.1.2)\n",
            "Requirement already satisfied: triton==2.0.0 in /usr/local/lib/python3.10/dist-packages (from torch>=1.8.0->ultralytics) (2.0.0)\n",
            "Requirement already satisfied: cmake in /usr/local/lib/python3.10/dist-packages (from triton==2.0.0->torch>=1.8.0->ultralytics) (3.27.4.1)\n",
            "Requirement already satisfied: lit in /usr/local/lib/python3.10/dist-packages (from triton==2.0.0->torch>=1.8.0->ultralytics) (16.0.6)\n",
            "Requirement already satisfied: six>=1.5 in /usr/local/lib/python3.10/dist-packages (from python-dateutil>=2.7->matplotlib>=3.2.2->ultralytics) (1.16.0)\n",
            "Requirement already satisfied: MarkupSafe>=2.0 in /usr/local/lib/python3.10/dist-packages (from jinja2->torch>=1.8.0->ultralytics) (2.1.3)\n",
            "Requirement already satisfied: mpmath>=0.19 in /usr/local/lib/python3.10/dist-packages (from sympy->torch>=1.8.0->ultralytics) (1.3.0)\n",
            "Installing collected packages: ultralytics\n",
            "Successfully installed ultralytics-8.0.180\n"
          ]
        }
      ]
    },
    {
      "cell_type": "code",
      "source": [
        "!pip install ultralytics==8.0.20\n",
        "\n",
        "from IPython import display\n",
        "display.clear_output\n",
        "\n",
        "import ultralytics\n",
        "ultralytics.checks()"
      ],
      "metadata": {
        "colab": {
          "base_uri": "https://localhost:8080/"
        },
        "id": "_SeDtKxeY11Z",
        "outputId": "1afb356c-3fda-4106-e040-65d714e2450f"
      },
      "execution_count": 6,
      "outputs": [
        {
          "output_type": "stream",
          "name": "stderr",
          "text": [
            "Ultralytics YOLOv8.0.20 🚀 Python-3.10.12 torch-2.0.1+cu118 CUDA:0 (Tesla T4, 15102MiB)\n",
            "Setup complete ✅ (2 CPUs, 12.7 GB RAM, 26.3/78.2 GB disk)\n"
          ]
        }
      ]
    },
    {
      "cell_type": "markdown",
      "source": [
        "importing YOLO\n"
      ],
      "metadata": {
        "id": "89pDh_Hraea-"
      }
    },
    {
      "cell_type": "code",
      "source": [
        "from ultralytics import YOLO\n",
        "\n",
        "from IPython.display import display,Image"
      ],
      "metadata": {
        "id": "NELDHd5BaNhv"
      },
      "execution_count": 3,
      "outputs": []
    },
    {
      "cell_type": "markdown",
      "source": [
        "Mounting the drive"
      ],
      "metadata": {
        "id": "tZ-vKEQIdn2_"
      }
    },
    {
      "cell_type": "markdown",
      "source": [],
      "metadata": {
        "id": "INUqb0Sp2O4q"
      }
    },
    {
      "cell_type": "code",
      "source": [
        "from google.colab import drive\n",
        "drive.mount('/content/drive/')"
      ],
      "metadata": {
        "colab": {
          "base_uri": "https://localhost:8080/"
        },
        "id": "VgmkShF8ahwv",
        "outputId": "74d4dcfb-2512-4460-ecf3-435d67f9d819"
      },
      "execution_count": 7,
      "outputs": [
        {
          "output_type": "stream",
          "name": "stdout",
          "text": [
            "Mounted at /content/drive/\n"
          ]
        }
      ]
    },
    {
      "cell_type": "markdown",
      "source": [
        "Training YOLO v8 from custom helmet datset\n"
      ],
      "metadata": {
        "id": "8Ts22c462INa"
      }
    },
    {
      "cell_type": "code",
      "source": [
        "%cd /content/drive/MyDrive/helmet\n",
        "\n",
        "!yolo task=detect mode=train model=yolov8s.pt data=data.yaml epochs=25 imgsz=800 plots=True"
      ],
      "metadata": {
        "colab": {
          "base_uri": "https://localhost:8080/"
        },
        "id": "ATY8xkXfd48e",
        "outputId": "a36a69f9-b7df-4853-d8ac-a332f62a1c86"
      },
      "execution_count": 8,
      "outputs": [
        {
          "output_type": "stream",
          "name": "stdout",
          "text": [
            "/content/drive/MyDrive/helmet\n",
            "Ultralytics YOLOv8.0.20 🚀 Python-3.10.12 torch-2.0.1+cu118 CUDA:0 (Tesla T4, 15102MiB)\n",
            "\u001b[34m\u001b[1myolo/engine/trainer: \u001b[0mtask=detect, mode=train, model=yolov8s.yaml, data=data.yaml, epochs=25, patience=50, batch=16, imgsz=800, save=True, cache=False, device=, workers=8, project=None, name=None, exist_ok=False, pretrained=False, optimizer=SGD, verbose=True, seed=0, deterministic=True, single_cls=False, image_weights=False, rect=False, cos_lr=False, close_mosaic=10, resume=False, overlap_mask=True, mask_ratio=4, dropout=False, val=True, save_json=False, save_hybrid=False, conf=0.001, iou=0.7, max_det=300, half=False, dnn=False, plots=True, source=ultralytics/assets/, show=False, save_txt=False, save_conf=False, save_crop=False, hide_labels=False, hide_conf=False, vid_stride=1, line_thickness=3, visualize=False, augment=False, agnostic_nms=False, classes=None, retina_masks=False, boxes=True, format=torchscript, keras=False, optimize=False, int8=False, dynamic=False, simplify=False, opset=17, workspace=4, nms=False, lr0=0.01, lrf=0.01, momentum=0.937, weight_decay=0.001, warmup_epochs=3.0, warmup_momentum=0.8, warmup_bias_lr=0.1, box=7.5, cls=0.5, dfl=1.5, fl_gamma=0.0, label_smoothing=0.0, nbs=64, hsv_h=0.015, hsv_s=0.7, hsv_v=0.4, degrees=0.0, translate=0.1, scale=0.5, shear=0.0, perspective=0.0, flipud=0.0, fliplr=0.5, mosaic=1.0, mixup=0.0, copy_paste=0.0, cfg=None, v5loader=False, save_dir=runs/detect/train2\n",
            "Downloading https://ultralytics.com/assets/Arial.ttf to /root/.config/Ultralytics/Arial.ttf...\n",
            "100% 755k/755k [00:00<00:00, 26.6MB/s]\n",
            "2023-09-16 06:25:11.168021: I tensorflow/core/platform/cpu_feature_guard.cc:182] This TensorFlow binary is optimized to use available CPU instructions in performance-critical operations.\n",
            "To enable the following instructions: AVX2 FMA, in other operations, rebuild TensorFlow with the appropriate compiler flags.\n",
            "2023-09-16 06:25:12.090849: W tensorflow/compiler/tf2tensorrt/utils/py_utils.cc:38] TF-TRT Warning: Could not find TensorRT\n",
            "Overriding model.yaml nc=80 with nc=5\n",
            "\n",
            "                   from  n    params  module                                       arguments                     \n",
            "  0                  -1  1       928  ultralytics.nn.modules.Conv                  [3, 32, 3, 2]                 \n",
            "  1                  -1  1     18560  ultralytics.nn.modules.Conv                  [32, 64, 3, 2]                \n",
            "  2                  -1  1     29056  ultralytics.nn.modules.C2f                   [64, 64, 1, True]             \n",
            "  3                  -1  1     73984  ultralytics.nn.modules.Conv                  [64, 128, 3, 2]               \n",
            "  4                  -1  2    197632  ultralytics.nn.modules.C2f                   [128, 128, 2, True]           \n",
            "  5                  -1  1    295424  ultralytics.nn.modules.Conv                  [128, 256, 3, 2]              \n",
            "  6                  -1  2    788480  ultralytics.nn.modules.C2f                   [256, 256, 2, True]           \n",
            "  7                  -1  1   1180672  ultralytics.nn.modules.Conv                  [256, 512, 3, 2]              \n",
            "  8                  -1  1   1838080  ultralytics.nn.modules.C2f                   [512, 512, 1, True]           \n",
            "  9                  -1  1    656896  ultralytics.nn.modules.SPPF                  [512, 512, 5]                 \n",
            " 10                  -1  1         0  torch.nn.modules.upsampling.Upsample         [None, 2, 'nearest']          \n",
            " 11             [-1, 6]  1         0  ultralytics.nn.modules.Concat                [1]                           \n",
            " 12                  -1  1    591360  ultralytics.nn.modules.C2f                   [768, 256, 1]                 \n",
            " 13                  -1  1         0  torch.nn.modules.upsampling.Upsample         [None, 2, 'nearest']          \n",
            " 14             [-1, 4]  1         0  ultralytics.nn.modules.Concat                [1]                           \n",
            " 15                  -1  1    148224  ultralytics.nn.modules.C2f                   [384, 128, 1]                 \n",
            " 16                  -1  1    147712  ultralytics.nn.modules.Conv                  [128, 128, 3, 2]              \n",
            " 17            [-1, 12]  1         0  ultralytics.nn.modules.Concat                [1]                           \n",
            " 18                  -1  1    493056  ultralytics.nn.modules.C2f                   [384, 256, 1]                 \n",
            " 19                  -1  1    590336  ultralytics.nn.modules.Conv                  [256, 256, 3, 2]              \n",
            " 20             [-1, 9]  1         0  ultralytics.nn.modules.Concat                [1]                           \n",
            " 21                  -1  1   1969152  ultralytics.nn.modules.C2f                   [768, 512, 1]                 \n",
            " 22        [15, 18, 21]  1   2117983  ultralytics.nn.modules.Detect                [5, [128, 256, 512]]          \n",
            "Model summary: 225 layers, 11137535 parameters, 11137519 gradients, 28.7 GFLOPs\n",
            "\n",
            "Transferred 349/355 items from pretrained weights\n",
            "\u001b[34m\u001b[1moptimizer:\u001b[0m SGD(lr=0.01) with parameter groups 57 weight(decay=0.0), 64 weight(decay=0.001), 63 bias\n",
            "\u001b[34m\u001b[1mtrain: \u001b[0mScanning /content/drive/MyDrive/helmet/train/labels... 800 images, 0 backgrounds, 0 corrupt: 100% 800/800 [04:37<00:00,  2.88it/s]\n",
            "\u001b[34m\u001b[1mtrain: \u001b[0mNew cache created: /content/drive/MyDrive/helmet/train/labels.cache\n",
            "\u001b[34m\u001b[1malbumentations: \u001b[0mBlur(p=0.01, blur_limit=(3, 7)), MedianBlur(p=0.01, blur_limit=(3, 7)), ToGray(p=0.01), CLAHE(p=0.01, clip_limit=(1, 4.0), tile_grid_size=(8, 8))\n",
            "\u001b[34m\u001b[1mval: \u001b[0mScanning /content/drive/MyDrive/helmet/valid/labels... 142 images, 0 backgrounds, 0 corrupt: 100% 142/142 [00:49<00:00,  2.90it/s]\n",
            "\u001b[34m\u001b[1mval: \u001b[0mNew cache created: /content/drive/MyDrive/helmet/valid/labels.cache\n",
            "Image sizes 800 train, 800 val\n",
            "Using 2 dataloader workers\n",
            "Logging results to \u001b[1mruns/detect/train2\u001b[0m\n",
            "Starting training for 25 epochs...\n",
            "\n",
            "      Epoch    GPU_mem   box_loss   cls_loss   dfl_loss  Instances       Size\n",
            "       1/25      8.25G      2.244      2.976      2.089        204        800: 100% 50/50 [00:57<00:00,  1.15s/it]\n",
            "                 Class     Images  Instances      Box(P          R      mAP50  mAP50-95): 100% 5/5 [00:04<00:00,  1.05it/s]\n",
            "                   all        142       1064       0.33      0.438      0.354      0.145\n",
            "                     0        142        258      0.302      0.461      0.284     0.0824\n",
            "                     1        142        179      0.363      0.296      0.285     0.0975\n",
            "                     2        142        274      0.239      0.679      0.376      0.161\n",
            "                     3        142         53      0.043     0.0566     0.0526     0.0201\n",
            "                     4        142        300      0.703      0.696       0.77      0.364\n",
            "\n",
            "      Epoch    GPU_mem   box_loss   cls_loss   dfl_loss  Instances       Size\n",
            "       2/25      11.4G      1.861      1.736      1.666        176        800: 100% 50/50 [00:53<00:00,  1.07s/it]\n",
            "                 Class     Images  Instances      Box(P          R      mAP50  mAP50-95): 100% 5/5 [00:03<00:00,  1.52it/s]\n",
            "                   all        142       1064      0.329      0.536      0.458      0.193\n",
            "                     0        142        258      0.423       0.55      0.414      0.137\n",
            "                     1        142        179      0.532      0.268      0.356       0.13\n",
            "                     2        142        274      0.208      0.861       0.57      0.232\n",
            "                     3        142         53     0.0801     0.0377     0.0781     0.0307\n",
            "                     4        142        300      0.401      0.963      0.872      0.434\n",
            "\n",
            "      Epoch    GPU_mem   box_loss   cls_loss   dfl_loss  Instances       Size\n",
            "       3/25      11.4G      1.783      1.646       1.59        215        800: 100% 50/50 [00:52<00:00,  1.05s/it]\n",
            "                 Class     Images  Instances      Box(P          R      mAP50  mAP50-95): 100% 5/5 [00:03<00:00,  1.55it/s]\n",
            "                   all        142       1064      0.522      0.523      0.519      0.228\n",
            "                     0        142        258      0.518      0.574      0.484      0.166\n",
            "                     1        142        179      0.609      0.408      0.468      0.178\n",
            "                     2        142        274       0.51      0.675      0.617      0.271\n",
            "                     3        142         53      0.312     0.0566      0.148     0.0668\n",
            "                     4        142        300      0.663      0.903       0.88      0.458\n",
            "\n",
            "      Epoch    GPU_mem   box_loss   cls_loss   dfl_loss  Instances       Size\n",
            "       4/25      11.4G      1.778      1.523      1.574        130        800: 100% 50/50 [00:53<00:00,  1.06s/it]\n",
            "                 Class     Images  Instances      Box(P          R      mAP50  mAP50-95): 100% 5/5 [00:03<00:00,  1.57it/s]\n",
            "                   all        142       1064       0.55      0.544      0.537      0.232\n",
            "                     0        142        258      0.586      0.504      0.525      0.181\n",
            "                     1        142        179      0.543      0.542      0.507      0.183\n",
            "                     2        142        274      0.624      0.686      0.656      0.288\n",
            "                     3        142         53      0.281     0.0755      0.119     0.0565\n",
            "                     4        142        300      0.717      0.913      0.878      0.453\n",
            "\n",
            "      Epoch    GPU_mem   box_loss   cls_loss   dfl_loss  Instances       Size\n",
            "       5/25      11.4G      1.758      1.391      1.545        181        800: 100% 50/50 [00:53<00:00,  1.07s/it]\n",
            "                 Class     Images  Instances      Box(P          R      mAP50  mAP50-95): 100% 5/5 [00:03<00:00,  1.57it/s]\n",
            "                   all        142       1064      0.691      0.505      0.527      0.221\n",
            "                     0        142        258      0.572      0.584      0.566      0.187\n",
            "                     1        142        179      0.528      0.447      0.432       0.16\n",
            "                     2        142        274      0.668      0.616      0.625      0.255\n",
            "                     3        142         53          1          0      0.163     0.0696\n",
            "                     4        142        300      0.689       0.88       0.85      0.432\n",
            "\n",
            "      Epoch    GPU_mem   box_loss   cls_loss   dfl_loss  Instances       Size\n",
            "       6/25      11.4G      1.753      1.366      1.551        177        800: 100% 50/50 [00:52<00:00,  1.06s/it]\n",
            "                 Class     Images  Instances      Box(P          R      mAP50  mAP50-95): 100% 5/5 [00:03<00:00,  1.51it/s]\n",
            "                   all        142       1064      0.594      0.549      0.579      0.248\n",
            "                     0        142        258      0.614      0.554      0.574      0.214\n",
            "                     1        142        179      0.696      0.499      0.569      0.214\n",
            "                     2        142        274      0.596      0.701      0.697      0.299\n",
            "                     3        142         53      0.373      0.102      0.195     0.0842\n",
            "                     4        142        300      0.689       0.89      0.858      0.429\n",
            "\n",
            "      Epoch    GPU_mem   box_loss   cls_loss   dfl_loss  Instances       Size\n",
            "       7/25      13.7G      1.707      1.313      1.536        145        800: 100% 50/50 [00:53<00:00,  1.08s/it]\n",
            "                 Class     Images  Instances      Box(P          R      mAP50  mAP50-95): 100% 5/5 [00:03<00:00,  1.50it/s]\n",
            "                   all        142       1064      0.556      0.599      0.583      0.247\n",
            "                     0        142        258      0.557      0.678       0.61      0.204\n",
            "                     1        142        179      0.624       0.52      0.574      0.205\n",
            "                     2        142        274      0.595       0.73      0.659      0.297\n",
            "                     3        142         53      0.395      0.132      0.215       0.11\n",
            "                     4        142        300      0.606      0.933      0.855      0.419\n",
            "\n",
            "      Epoch    GPU_mem   box_loss   cls_loss   dfl_loss  Instances       Size\n",
            "       8/25      13.7G      1.699      1.267      1.529        122        800: 100% 50/50 [00:53<00:00,  1.07s/it]\n",
            "                 Class     Images  Instances      Box(P          R      mAP50  mAP50-95): 100% 5/5 [00:03<00:00,  1.59it/s]\n",
            "                   all        142       1064      0.623      0.534      0.596       0.25\n",
            "                     0        142        258      0.834      0.488      0.639      0.216\n",
            "                     1        142        179      0.612      0.564      0.615      0.227\n",
            "                     2        142        274      0.621      0.712      0.703      0.307\n",
            "                     3        142         53      0.345     0.0189      0.171     0.0805\n",
            "                     4        142        300      0.703      0.887       0.85      0.422\n",
            "\n",
            "      Epoch    GPU_mem   box_loss   cls_loss   dfl_loss  Instances       Size\n",
            "       9/25      13.7G      1.706      1.266      1.543        162        800: 100% 50/50 [00:53<00:00,  1.08s/it]\n",
            "                 Class     Images  Instances      Box(P          R      mAP50  mAP50-95): 100% 5/5 [00:03<00:00,  1.48it/s]\n",
            "                   all        142       1064      0.527      0.599      0.579      0.254\n",
            "                     0        142        258      0.564      0.667      0.623      0.214\n",
            "                     1        142        179      0.493      0.564      0.533      0.198\n",
            "                     2        142        274      0.679      0.686      0.702      0.317\n",
            "                     3        142         53      0.264      0.142      0.183     0.0819\n",
            "                     4        142        300      0.636      0.937      0.856      0.456\n",
            "\n",
            "      Epoch    GPU_mem   box_loss   cls_loss   dfl_loss  Instances       Size\n",
            "      10/25      13.7G       1.66      1.197      1.503        196        800: 100% 50/50 [00:54<00:00,  1.09s/it]\n",
            "                 Class     Images  Instances      Box(P          R      mAP50  mAP50-95): 100% 5/5 [00:03<00:00,  1.53it/s]\n",
            "                   all        142       1064      0.523      0.593      0.553      0.236\n",
            "                     0        142        258      0.707      0.616      0.636       0.21\n",
            "                     1        142        179      0.621       0.52      0.526      0.193\n",
            "                     2        142        274      0.507      0.781      0.635       0.27\n",
            "                     3        142         53      0.162      0.132      0.111     0.0547\n",
            "                     4        142        300      0.617      0.917      0.856       0.45\n",
            "\n",
            "      Epoch    GPU_mem   box_loss   cls_loss   dfl_loss  Instances       Size\n",
            "      11/25      13.7G      1.675      1.223       1.51        154        800: 100% 50/50 [00:53<00:00,  1.07s/it]\n",
            "                 Class     Images  Instances      Box(P          R      mAP50  mAP50-95): 100% 5/5 [00:03<00:00,  1.57it/s]\n",
            "                   all        142       1064      0.583      0.587      0.562      0.242\n",
            "                     0        142        258      0.635       0.64      0.642       0.23\n",
            "                     1        142        179      0.533      0.549      0.517      0.194\n",
            "                     2        142        274      0.592      0.755      0.638       0.27\n",
            "                     3        142         53      0.427     0.0943      0.171     0.0841\n",
            "                     4        142        300      0.726      0.897      0.845      0.434\n",
            "\n",
            "      Epoch    GPU_mem   box_loss   cls_loss   dfl_loss  Instances       Size\n",
            "      12/25      13.7G      1.656       1.17      1.478        133        800: 100% 50/50 [00:53<00:00,  1.08s/it]\n",
            "                 Class     Images  Instances      Box(P          R      mAP50  mAP50-95): 100% 5/5 [00:03<00:00,  1.52it/s]\n",
            "                   all        142       1064       0.57      0.625      0.616      0.279\n",
            "                     0        142        258      0.575      0.729      0.662      0.255\n",
            "                     1        142        179      0.677      0.575      0.642      0.233\n",
            "                     2        142        274      0.615      0.771      0.714      0.337\n",
            "                     3        142         53      0.281      0.132       0.19     0.0911\n",
            "                     4        142        300      0.701       0.92      0.872      0.476\n",
            "\n",
            "      Epoch    GPU_mem   box_loss   cls_loss   dfl_loss  Instances       Size\n",
            "      13/25      13.7G      1.629      1.119      1.464        192        800: 100% 50/50 [00:53<00:00,  1.07s/it]\n",
            "                 Class     Images  Instances      Box(P          R      mAP50  mAP50-95): 100% 5/5 [00:03<00:00,  1.57it/s]\n",
            "                   all        142       1064      0.629      0.606      0.622      0.281\n",
            "                     0        142        258      0.686      0.713      0.685      0.252\n",
            "                     1        142        179      0.716      0.486       0.62      0.239\n",
            "                     2        142        274      0.606      0.792      0.702      0.333\n",
            "                     3        142         53      0.381      0.132      0.212     0.0985\n",
            "                     4        142        300      0.757      0.907      0.889      0.484\n",
            "\n",
            "      Epoch    GPU_mem   box_loss   cls_loss   dfl_loss  Instances       Size\n",
            "      14/25      13.7G      1.618      1.117      1.466        189        800: 100% 50/50 [00:52<00:00,  1.06s/it]\n",
            "                 Class     Images  Instances      Box(P          R      mAP50  mAP50-95): 100% 5/5 [00:03<00:00,  1.58it/s]\n",
            "                   all        142       1064      0.687      0.601      0.622      0.273\n",
            "                     0        142        258      0.701      0.589      0.674      0.251\n",
            "                     1        142        179      0.655      0.587      0.606      0.223\n",
            "                     2        142        274      0.585      0.833      0.726      0.319\n",
            "                     3        142         53      0.724     0.0994      0.228      0.111\n",
            "                     4        142        300      0.771      0.897      0.876       0.46\n",
            "\n",
            "      Epoch    GPU_mem   box_loss   cls_loss   dfl_loss  Instances       Size\n",
            "      15/25      13.7G      1.585      1.081      1.446        184        800: 100% 50/50 [00:53<00:00,  1.07s/it]\n",
            "                 Class     Images  Instances      Box(P          R      mAP50  mAP50-95): 100% 5/5 [00:03<00:00,  1.49it/s]\n",
            "                   all        142       1064      0.652      0.603      0.642      0.295\n",
            "                     0        142        258      0.743      0.561      0.669      0.244\n",
            "                     1        142        179      0.715      0.573      0.668      0.257\n",
            "                     2        142        274      0.647      0.804      0.731      0.349\n",
            "                     3        142         53      0.387       0.17      0.249      0.123\n",
            "                     4        142        300      0.769      0.907      0.893      0.504\n",
            "Closing dataloader mosaic\n",
            "\u001b[34m\u001b[1malbumentations: \u001b[0mBlur(p=0.01, blur_limit=(3, 7)), MedianBlur(p=0.01, blur_limit=(3, 7)), ToGray(p=0.01), CLAHE(p=0.01, clip_limit=(1, 4.0), tile_grid_size=(8, 8))\n",
            "\n",
            "      Epoch    GPU_mem   box_loss   cls_loss   dfl_loss  Instances       Size\n",
            "      16/25      13.7G      1.623       1.03       1.53        142        800: 100% 50/50 [00:33<00:00,  1.51it/s]\n",
            "                 Class     Images  Instances      Box(P          R      mAP50  mAP50-95): 100% 5/5 [00:04<00:00,  1.23it/s]\n",
            "                   all        142       1064       0.67       0.63      0.646      0.289\n",
            "                     0        142        258      0.721       0.64      0.705      0.259\n",
            "                     1        142        179      0.649      0.642      0.606      0.228\n",
            "                     2        142        274      0.672      0.766      0.743      0.346\n",
            "                     3        142         53      0.532      0.189      0.278      0.123\n",
            "                     4        142        300      0.775      0.913      0.897       0.49\n",
            "\n",
            "      Epoch    GPU_mem   box_loss   cls_loss   dfl_loss  Instances       Size\n",
            "      17/25      13.7G      1.603     0.9693      1.507        137        800: 100% 50/50 [00:30<00:00,  1.62it/s]\n",
            "                 Class     Images  Instances      Box(P          R      mAP50  mAP50-95): 100% 5/5 [00:03<00:00,  1.56it/s]\n",
            "                   all        142       1064      0.648       0.65      0.648      0.296\n",
            "                     0        142        258      0.658      0.713      0.704      0.251\n",
            "                     1        142        179      0.667      0.642      0.666      0.256\n",
            "                     2        142        274      0.642      0.784      0.728       0.35\n",
            "                     3        142         53      0.519      0.184      0.239      0.118\n",
            "                     4        142        300      0.754      0.927      0.902      0.506\n",
            "\n",
            "      Epoch    GPU_mem   box_loss   cls_loss   dfl_loss  Instances       Size\n",
            "      18/25      13.7G      1.579     0.9551       1.49         96        800: 100% 50/50 [00:31<00:00,  1.60it/s]\n",
            "                 Class     Images  Instances      Box(P          R      mAP50  mAP50-95): 100% 5/5 [00:03<00:00,  1.56it/s]\n",
            "                   all        142       1064      0.691      0.645      0.674      0.302\n",
            "                     0        142        258      0.739      0.674      0.702      0.242\n",
            "                     1        142        179      0.716      0.635      0.696      0.262\n",
            "                     2        142        274      0.722      0.712      0.747      0.355\n",
            "                     3        142         53      0.448      0.302      0.327      0.165\n",
            "                     4        142        300      0.833        0.9      0.896      0.488\n",
            "\n",
            "      Epoch    GPU_mem   box_loss   cls_loss   dfl_loss  Instances       Size\n",
            "      19/25      13.7G      1.575     0.9308      1.485        123        800: 100% 50/50 [00:30<00:00,  1.65it/s]\n",
            "                 Class     Images  Instances      Box(P          R      mAP50  mAP50-95): 100% 5/5 [00:03<00:00,  1.26it/s]\n",
            "                   all        142       1064      0.675      0.635       0.66      0.306\n",
            "                     0        142        258      0.702      0.678      0.709      0.263\n",
            "                     1        142        179      0.718      0.575      0.646      0.258\n",
            "                     2        142        274      0.615      0.809      0.732      0.346\n",
            "                     3        142         53       0.55      0.208        0.3      0.148\n",
            "                     4        142        300      0.788      0.903       0.91      0.516\n",
            "\n",
            "      Epoch    GPU_mem   box_loss   cls_loss   dfl_loss  Instances       Size\n",
            "      20/25      13.7G      1.527      0.897      1.448        122        800: 100% 50/50 [00:31<00:00,  1.60it/s]\n",
            "                 Class     Images  Instances      Box(P          R      mAP50  mAP50-95): 100% 5/5 [00:03<00:00,  1.56it/s]\n",
            "                   all        142       1064      0.679      0.626      0.669      0.307\n",
            "                     0        142        258      0.726      0.628      0.675      0.236\n",
            "                     1        142        179      0.714      0.613      0.699      0.272\n",
            "                     2        142        274      0.675      0.773      0.761      0.366\n",
            "                     3        142         53      0.483      0.194        0.3      0.152\n",
            "                     4        142        300      0.796      0.923       0.91      0.507\n",
            "\n",
            "      Epoch    GPU_mem   box_loss   cls_loss   dfl_loss  Instances       Size\n",
            "      21/25      13.7G      1.498     0.8578      1.441         93        800: 100% 50/50 [00:30<00:00,  1.64it/s]\n",
            "                 Class     Images  Instances      Box(P          R      mAP50  mAP50-95): 100% 5/5 [00:04<00:00,  1.11it/s]\n",
            "                   all        142       1064      0.673      0.652      0.685      0.312\n",
            "                     0        142        258      0.659      0.659      0.655      0.228\n",
            "                     1        142        179      0.713      0.665      0.719      0.274\n",
            "                     2        142        274      0.637      0.781      0.768      0.365\n",
            "                     3        142         53      0.576      0.245      0.373      0.173\n",
            "                     4        142        300      0.782      0.911      0.909       0.52\n",
            "\n",
            "      Epoch    GPU_mem   box_loss   cls_loss   dfl_loss  Instances       Size\n",
            "      22/25      13.7G      1.484     0.8442      1.407        116        800: 100% 50/50 [00:31<00:00,  1.61it/s]\n",
            "                 Class     Images  Instances      Box(P          R      mAP50  mAP50-95): 100% 5/5 [00:03<00:00,  1.54it/s]\n",
            "                   all        142       1064      0.698      0.664      0.686       0.32\n",
            "                     0        142        258      0.736      0.691      0.707      0.268\n",
            "                     1        142        179      0.687      0.675      0.704       0.27\n",
            "                     2        142        274      0.663      0.759      0.739      0.354\n",
            "                     3        142         53       0.62      0.283      0.384      0.189\n",
            "                     4        142        300      0.781       0.91      0.896      0.519\n",
            "\n",
            "      Epoch    GPU_mem   box_loss   cls_loss   dfl_loss  Instances       Size\n",
            "      23/25      13.7G       1.47     0.8164      1.401        142        800: 100% 50/50 [00:30<00:00,  1.62it/s]\n",
            "                 Class     Images  Instances      Box(P          R      mAP50  mAP50-95): 100% 5/5 [00:03<00:00,  1.54it/s]\n",
            "                   all        142       1064      0.707      0.675      0.686      0.316\n",
            "                     0        142        258       0.75      0.643      0.696      0.259\n",
            "                     1        142        179      0.693      0.709      0.708      0.271\n",
            "                     2        142        274      0.651       0.81      0.768      0.376\n",
            "                     3        142         53      0.645      0.321      0.371      0.172\n",
            "                     4        142        300      0.795      0.892      0.884      0.501\n",
            "\n",
            "      Epoch    GPU_mem   box_loss   cls_loss   dfl_loss  Instances       Size\n",
            "      24/25      13.7G      1.446     0.7961      1.394        123        800: 100% 50/50 [00:30<00:00,  1.63it/s]\n",
            "                 Class     Images  Instances      Box(P          R      mAP50  mAP50-95): 100% 5/5 [00:03<00:00,  1.32it/s]\n",
            "                   all        142       1064      0.726      0.654      0.699      0.322\n",
            "                     0        142        258      0.756      0.661      0.707      0.249\n",
            "                     1        142        179      0.754      0.634       0.71      0.277\n",
            "                     2        142        274      0.736      0.752      0.778      0.379\n",
            "                     3        142         53      0.576      0.321      0.402      0.185\n",
            "                     4        142        300      0.809      0.902      0.896      0.521\n",
            "\n",
            "      Epoch    GPU_mem   box_loss   cls_loss   dfl_loss  Instances       Size\n",
            "      25/25      13.7G      1.415     0.7737       1.37        111        800: 100% 50/50 [00:31<00:00,  1.60it/s]\n",
            "                 Class     Images  Instances      Box(P          R      mAP50  mAP50-95): 100% 5/5 [00:11<00:00,  2.25s/it]\n",
            "                   all        142       1064      0.715      0.664        0.7      0.322\n",
            "                     0        142        258      0.746      0.686      0.721      0.257\n",
            "                     1        142        179      0.731      0.648      0.714      0.276\n",
            "                     2        142        274      0.711      0.777      0.784      0.379\n",
            "                     3        142         53      0.579      0.311      0.377      0.177\n",
            "                     4        142        300      0.807        0.9      0.904      0.522\n",
            "\n",
            "25 epochs completed in 0.345 hours.\n",
            "Optimizer stripped from runs/detect/train2/weights/last.pt, 22.5MB\n",
            "Optimizer stripped from runs/detect/train2/weights/best.pt, 22.5MB\n",
            "\n",
            "Validating runs/detect/train2/weights/best.pt...\n",
            "Ultralytics YOLOv8.0.20 🚀 Python-3.10.12 torch-2.0.1+cu118 CUDA:0 (Tesla T4, 15102MiB)\n",
            "Model summary (fused): 168 layers, 11127519 parameters, 0 gradients, 28.4 GFLOPs\n",
            "                 Class     Images  Instances      Box(P          R      mAP50  mAP50-95): 100% 5/5 [00:11<00:00,  2.25s/it]\n",
            "                   all        142       1064      0.713      0.663        0.7      0.322\n",
            "                     0        142        258      0.751      0.686       0.72      0.256\n",
            "                     1        142        179      0.731      0.648      0.714      0.277\n",
            "                     2        142        274      0.711      0.777      0.784      0.378\n",
            "                     3        142         53      0.567      0.302      0.377      0.178\n",
            "                     4        142        300      0.807        0.9      0.904      0.522\n",
            "Speed: 6.6ms pre-process, 7.9ms inference, 0.0ms loss, 6.3ms post-process per image\n",
            "Results saved to \u001b[1mruns/detect/train2\u001b[0m\n"
          ]
        }
      ]
    },
    {
      "cell_type": "code",
      "source": [],
      "metadata": {
        "id": "_95y0atSmJCH"
      },
      "execution_count": null,
      "outputs": []
    }
  ]
}